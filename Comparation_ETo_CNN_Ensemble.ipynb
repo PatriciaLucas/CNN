{
  "nbformat": 4,
  "nbformat_minor": 0,
  "metadata": {
    "colab": {
      "name": "Previsao_ETo_CNN_Ensemble.ipynb",
      "provenance": [],
      "collapsed_sections": [],
      "authorship_tag": "ABX9TyPMI/0ns4SVxrGm0MSpslP8",
      "include_colab_link": true
    },
    "kernelspec": {
      "name": "python3",
      "display_name": "Python 3"
    }
  },
  "cells": [
    {
      "cell_type": "markdown",
      "metadata": {
        "id": "view-in-github",
        "colab_type": "text"
      },
      "source": [
        "<a href=\"https://colab.research.google.com/github/PatriciaLucas/CNN/blob/master/Previsao_ETo_CNN_Ensemble.ipynb\" target=\"_parent\"><img src=\"https://colab.research.google.com/assets/colab-badge.svg\" alt=\"Open In Colab\"/></a>"
      ]
    },
    {
      "cell_type": "markdown",
      "metadata": {
        "id": "FacHtzj1zyug",
        "colab_type": "text"
      },
      "source": [
        "# Reference evapotranspiration prediction with individual CNN models and CNN ensemble\n",
        "\n",
        "  \n"
      ]
    },
    {
      "cell_type": "code",
      "metadata": {
        "id": "ZHekqWm7sEFX",
        "colab_type": "code",
        "outputId": "4febd1d5-1fe8-44a3-b3d2-fd50695c3ef1",
        "colab": {
          "base_uri": "https://localhost:8080/",
          "height": 354
        }
      },
      "source": [
        "!pip install keras-tcn==2.8.3\n",
        "!git clone https://github.com/PatriciaLucas/CNN\n",
        "from CNN import Ensemble as es\n",
        "from CNN import basic\n",
        "import numpy as np\n",
        "import pandas as pd\n",
        "import matplotlib as plt\n",
        "import matplotlib.pyplot as plt\n",
        "import seaborn as sns\n",
        "from statsmodels.graphics.tsaplots import plot_acf\n",
        "from scipy import stats\n",
        "import warnings\n",
        "from google.colab import files\n",
        "warnings.filterwarnings(\"ignore\")"
      ],
      "execution_count": 1,
      "outputs": [
        {
          "output_type": "stream",
          "text": [
            "Collecting keras-tcn==2.8.3\n",
            "  Downloading https://files.pythonhosted.org/packages/d4/c4/438c86b27ab11a79cc659d8d6878682c4eb80caa0c0b3d620740cef762f5/keras_tcn-2.8.3-py3-none-any.whl\n",
            "Requirement already satisfied: numpy in /usr/local/lib/python3.6/dist-packages (from keras-tcn==2.8.3) (1.18.2)\n",
            "Requirement already satisfied: keras in /usr/local/lib/python3.6/dist-packages (from keras-tcn==2.8.3) (2.3.1)\n",
            "Requirement already satisfied: keras-applications>=1.0.6 in /usr/local/lib/python3.6/dist-packages (from keras->keras-tcn==2.8.3) (1.0.8)\n",
            "Requirement already satisfied: h5py in /usr/local/lib/python3.6/dist-packages (from keras->keras-tcn==2.8.3) (2.10.0)\n",
            "Requirement already satisfied: pyyaml in /usr/local/lib/python3.6/dist-packages (from keras->keras-tcn==2.8.3) (3.13)\n",
            "Requirement already satisfied: six>=1.9.0 in /usr/local/lib/python3.6/dist-packages (from keras->keras-tcn==2.8.3) (1.12.0)\n",
            "Requirement already satisfied: keras-preprocessing>=1.0.5 in /usr/local/lib/python3.6/dist-packages (from keras->keras-tcn==2.8.3) (1.1.0)\n",
            "Requirement already satisfied: scipy>=0.14 in /usr/local/lib/python3.6/dist-packages (from keras->keras-tcn==2.8.3) (1.4.1)\n",
            "Installing collected packages: keras-tcn\n",
            "Successfully installed keras-tcn-2.8.3\n",
            "Cloning into 'CNN'...\n",
            "remote: Enumerating objects: 65, done.\u001b[K\n",
            "remote: Counting objects: 100% (65/65), done.\u001b[K\n",
            "remote: Compressing objects: 100% (63/63), done.\u001b[K\n",
            "remote: Total 65 (delta 33), reused 0 (delta 0), pack-reused 0\u001b[K\n",
            "Unpacking objects: 100% (65/65), done.\n"
          ],
          "name": "stdout"
        },
        {
          "output_type": "stream",
          "text": [
            "Using TensorFlow backend.\n"
          ],
          "name": "stderr"
        }
      ]
    },
    {
      "cell_type": "markdown",
      "metadata": {
        "id": "iGnk-fIK3Dbm",
        "colab_type": "text"
      },
      "source": [
        "##Database"
      ]
    },
    {
      "cell_type": "code",
      "metadata": {
        "id": "61lR5QH1sH0n",
        "colab_type": "code",
        "colab": {}
      },
      "source": [
        "def get_search_dataset():\n",
        "    df1 = pd.read_csv('https://raw.githubusercontent.com/PatriciaLucas/Evapotranspiracao/master/ETo_setelagoas.csv', sep=',')\n",
        "    series = df1.iloc[:,1]\n",
        "    train = series[:6939]\n",
        "    test = series[8035:] #ano de teste: 2015\n",
        "    return train, test"
      ],
      "execution_count": 0,
      "outputs": []
    },
    {
      "cell_type": "markdown",
      "metadata": {
        "id": "GzbPgEQMW-2C",
        "colab_type": "text"
      },
      "source": [
        "## Individual models"
      ]
    },
    {
      "cell_type": "code",
      "metadata": {
        "id": "_IHn8Gq_XMRp",
        "colab_type": "code",
        "colab": {}
      },
      "source": [
        "star_CNN1 = {'filters': 1, 'pool': 0, 'pool_size': 3, 'dropout': 0.012594059561340142, 'norm': 1, 'lags': 4, 'num_conv': 1, 'kernel_size': 3, 'rmse': 0.7696852129001718, 'num_param': 449}\n",
        "star_CNN2 = {'filters': 1, 'dropout': 0, 'norm': 1, 'lags': 4, 'num_conv': 1, 'kernel_size': 0, 'rmse': 0.7566198577347709, 'num_param': 449}\n",
        "star_CNN3 = {'pilhas': 2, 'filters': 1, 'dropout': 0.2, 'norm': 1, 'lags': 48, 'num_conv': 3, 'kernel_size': 2, 'rmse': 0.7530, 'num_param': 68257} "
      ],
      "execution_count": 0,
      "outputs": []
    },
    {
      "cell_type": "code",
      "metadata": {
        "id": "MBDghR1KXyDT",
        "colab_type": "code",
        "colab": {}
      },
      "source": [
        "train, test = get_search_dataset()"
      ],
      "execution_count": 0,
      "outputs": []
    },
    {
      "cell_type": "code",
      "metadata": {
        "id": "Up1oufFnfmQb",
        "colab_type": "code",
        "colab": {}
      },
      "source": [
        "def form_data(data, t):  \n",
        "  df = pd.DataFrame(data)\n",
        "  df1 = df.T\n",
        "  frames = [df1.iloc[:,0], df1.iloc[:,1], df1.iloc[:,2], df1.iloc[:,3], df1.iloc[:,4], df1.iloc[:,5], df1.iloc[:,6], df1.iloc[:,7], df1.iloc[:,8], df1.iloc[:,9], df1.iloc[:,10], df1.iloc[:,11],\n",
        "         df1.iloc[:,12], df1.iloc[:,13], df1.iloc[:,14], df1.iloc[:,15], df1.iloc[:,16], df1.iloc[:,17],df1.iloc[:,18], df1.iloc[:,19], df1.iloc[:,20], df1.iloc[:,21], df1.iloc[:,22], df1.iloc[:,23],\n",
        "         df1.iloc[:,24], df1.iloc[:,25], df1.iloc[:,26], df1.iloc[:,27], df1.iloc[:,28], df1.iloc[:,29]]\n",
        "  result = pd.concat(frames)\n",
        "  r = pd.DataFrame(result) \n",
        "  r.insert(1, \"Model\", True) \n",
        "  for i in range(300):\n",
        "      r['Model'].iloc[i] = 'CNN'+ t\n",
        "  return r"
      ],
      "execution_count": 0,
      "outputs": []
    },
    {
      "cell_type": "markdown",
      "metadata": {
        "id": "hmOnVhCAfJT8",
        "colab_type": "text"
      },
      "source": [
        "###CNN1"
      ]
    },
    {
      "cell_type": "code",
      "metadata": {
        "id": "DESzkohkdK8V",
        "colab_type": "code",
        "colab": {}
      },
      "source": [
        "results_CNN1 = []\n",
        "train, test, scaler = es.get_dados(star_CNN1, train, test)\n",
        "X_train, y_train, X_test, y_test = basic.slideWindow(train, test, star_CNN1['lags'])\n",
        "for i in range(30):\n",
        "  model,_ = basic.modelo_CNN1(X_train, y_train, star_CNN1) \n",
        "  rmse, yhat, y_test = basic.predictModel(test, model, 10,  star_CNN1['lags'], scaler)\n",
        "  results_CNN1.append(rmse)\n",
        "  print(i)\n",
        "\n",
        "results_CNN1 = form_data(results_CNN1, '1')\n",
        "results_CNN1.to_csv('results_CNN1',index=True)"
      ],
      "execution_count": 0,
      "outputs": []
    },
    {
      "cell_type": "markdown",
      "metadata": {
        "id": "RHquOFOsfNOS",
        "colab_type": "text"
      },
      "source": [
        "###CNN2"
      ]
    },
    {
      "cell_type": "code",
      "metadata": {
        "id": "60XGNp9_fP2q",
        "colab_type": "code",
        "colab": {}
      },
      "source": [
        "results_CNN2 = []\n",
        "train, test, scaler = es.get_dados(star_CNN2, train, test)\n",
        "X_train, y_train, X_test, y_test = basic.slideWindow(train, test, star_CNN2['lags'])\n",
        "for i in range(30):\n",
        "  model,_ = basic.modelo_CNN2(X_train, y_train, star_CNN2) \n",
        "  rmse, yhat, y_test = basic.predictModel(test, model, 10,  star_CNN2['lags'], scaler)\n",
        "  results_CNN2.append(rmse)\n",
        "\n",
        "results_CNN2 = form_data(results_CNN2, '2')\n",
        "results_CNN2.to_csv('results_CNN2',index=True)"
      ],
      "execution_count": 0,
      "outputs": []
    },
    {
      "cell_type": "markdown",
      "metadata": {
        "id": "aHWjvjTNfXwr",
        "colab_type": "text"
      },
      "source": [
        "###CNN3"
      ]
    },
    {
      "cell_type": "code",
      "metadata": {
        "id": "4hIS-4GHfaAT",
        "colab_type": "code",
        "colab": {}
      },
      "source": [
        "results_CNN3 = []\n",
        "train, test, scaler = es.get_dados(star_CNN3, train, test)\n",
        "X_train, y_train, X_test, y_test = basic.slideWindow(train, test, star_CNN3['lags'])\n",
        "for i in range(30):\n",
        "  model3,_ = basic.modelo_CNN3(X_train, y_train, star_CNN3) \n",
        "  rmse, yhat, y_test = basic.predictModel(test, model3, 10, star_CNN3['lags'], scaler)\n",
        "  results_CNN3.append(rmse)\n",
        "\n",
        "results_CNN3 = form_data(results_CNN3, '3')\n",
        "results_CNN3.to_csv('results_CNN3',index=True)"
      ],
      "execution_count": 0,
      "outputs": []
    },
    {
      "cell_type": "markdown",
      "metadata": {
        "id": "3UqUEgoN7Gyi",
        "colab_type": "text"
      },
      "source": [
        "## Ensemble models\n"
      ]
    },
    {
      "cell_type": "markdown",
      "metadata": {
        "id": "hAdOl6V8iSCr",
        "colab_type": "text"
      },
      "source": [
        "### CNN1"
      ]
    },
    {
      "cell_type": "code",
      "metadata": {
        "id": "dTGqFtG-j2UR",
        "colab_type": "code",
        "colab": {}
      },
      "source": [
        "results_ECNN1 = []\n",
        "for i in range(1):\n",
        "  rmse, yhat, kde_list = es.executa(train, test, 0, 6)\n",
        "  results_ECNN1.append(rmse)\n",
        "results_ECNN1 = form_data(results_ECNN1, 'E1')\n",
        "results_ECNN1.to_csv('results_ECNN1',index=True)"
      ],
      "execution_count": 0,
      "outputs": []
    },
    {
      "cell_type": "markdown",
      "metadata": {
        "id": "n_fudOTkkITt",
        "colab_type": "text"
      },
      "source": [
        "###CNN2"
      ]
    },
    {
      "cell_type": "code",
      "metadata": {
        "id": "Ry2xPVTjsJeG",
        "colab_type": "code",
        "colab": {}
      },
      "source": [
        "results_ECNN2 = []\n",
        "for i in range(30):\n",
        "  rmse, yhat, kde_list = es.executa(train, test, 1, 6)\n",
        "  results_ECNN2.append(rmse)\n",
        "  \n",
        "#results_ECNN2 = form_data(results_ECNN2, 'E2')\n",
        "#results_ECNN2.to_csv('results_ECNN2',index=True)"
      ],
      "execution_count": 0,
      "outputs": []
    },
    {
      "cell_type": "markdown",
      "metadata": {
        "id": "ZZkN102wkKWN",
        "colab_type": "text"
      },
      "source": [
        "###CNN3"
      ]
    },
    {
      "cell_type": "code",
      "metadata": {
        "id": "KGTPvVaiiOGd",
        "colab_type": "code",
        "colab": {}
      },
      "source": [
        "results_ECNN3 = []\n",
        "for i in range(30):\n",
        "  rmse, yhat, kde_list = es.executa(train, test, 2, 6)\n",
        "  results_ECNN3.append(rmse)\n",
        "results_ECNN3 = form_data(results_ECNN3, 'E3')\n",
        "results_ECNN3.to_csv('results_ECNN3',index=True)"
      ],
      "execution_count": 0,
      "outputs": []
    },
    {
      "cell_type": "markdown",
      "metadata": {
        "id": "wOo1KIG9kMTc",
        "colab_type": "text"
      },
      "source": [
        "###CNNH"
      ]
    },
    {
      "cell_type": "code",
      "metadata": {
        "id": "VTntD-iKkCa-",
        "colab_type": "code",
        "colab": {}
      },
      "source": [
        "results_ECNNH = []\n",
        "for i in range(30):\n",
        "  rmse, yhat, kde_list = es.executa(train, test, 3, 6)\n",
        "  results_ECNNH.append(rmse)\n",
        "results_ECNNH = form_data(results_ECNNH, 'EH')\n",
        "results_ECNNH.to_csv('results_ECNNH',index=True)"
      ],
      "execution_count": 0,
      "outputs": []
    },
    {
      "cell_type": "markdown",
      "metadata": {
        "id": "2D4P433Xp6R2",
        "colab_type": "text"
      },
      "source": [
        "## Comparison of individual models and ensembles"
      ]
    },
    {
      "cell_type": "code",
      "metadata": {
        "id": "mEcrFkGOqFbl",
        "colab_type": "code",
        "colab": {
          "base_uri": "https://localhost:8080/",
          "height": 560
        },
        "outputId": "da7f0715-7fa4-447e-97bb-54cefe09e063"
      },
      "source": [
        "CNN1 = pd.read_csv('results_CNN1',delimiter=',')\n",
        "CNN1 = CNN1[CNN1['Unnamed: 0'].isin(['0','2','6','9'])]\n",
        "CNN2 = pd.read_csv('results_CNN2',delimiter=',')\n",
        "CNN2 = CNN2[CNN2['Unnamed: 0'].isin(['0','2','6','9'])]\n",
        "CNN3 = pd.read_csv('results_CNN3',delimiter=',')\n",
        "CNN3 = CNN3[CNN3['Unnamed: 0'].isin(['0','2','6','9'])]\n",
        "\n",
        "ECNN1 = pd.read_csv('results_CNNE1',delimiter=',')\n",
        "ECNN1 = ECNN1[ECNN1['Unnamed: 0'].isin(['0','2','6','9'])]\n",
        "ECNN2 = pd.read_csv('results_CNNE2',delimiter=',')\n",
        "ECNN2 = ECNN2[ECNN2['Unnamed: 0'].isin(['0','2','6','9'])]\n",
        "ECNN3 = pd.read_csv('results_CNNE3',delimiter=',')\n",
        "ECNN3 = ECNN3[ECNN3['Unnamed: 0'].isin(['0','2','6','9'])]\n",
        "EHIBRIDO = pd.read_csv('results_CNNEH',delimiter=',')\n",
        "EHIBRIDO = EHIBRIDO[EHIBRIDO['Unnamed: 0'].isin(['0','2','6','9'])]\n",
        "frames = [CNN1, ECNN1, CNN2, ECNN2, CNN3, ECNN3, EHIBRIDO]\n",
        "result = pd.concat(frames, ignore_index=True)\n",
        "\n",
        "plt.style.use('seaborn')\n",
        "sns.set_style(\"whitegrid\")\n",
        "fig, ax = plt.subplots(nrows=1, ncols=1, figsize=[14,6], dpi=100)\n",
        "g1 = sns.boxplot(x=result.iloc[:,0], y=result.iloc[:,1], hue=result.iloc[:,2], data=result, palette=\"tab20\", linewidth=0.7, saturation=1)\n",
        "plt.tick_params(labelsize=12)\n",
        "plt.xlabel(\"Horizontes de previsão\", fontsize=14)\n",
        "plt.ylabel(\"RMSE\", fontsize=14)"
      ],
      "execution_count": 12,
      "outputs": [
        {
          "output_type": "execute_result",
          "data": {
            "text/plain": [
              "Text(0, 0.5, 'RMSE')"
            ]
          },
          "metadata": {
            "tags": []
          },
          "execution_count": 12
        },
        {
          "output_type": "display_data",
          "data": {
            "image/png": "[encoded data removed]",
            "text/plain": [
              "<Figure size 1400x600 with 1 Axes>"
            ]
          },
          "metadata": {
            "tags": []
          }
        }
      ]
    }
  ]
}
